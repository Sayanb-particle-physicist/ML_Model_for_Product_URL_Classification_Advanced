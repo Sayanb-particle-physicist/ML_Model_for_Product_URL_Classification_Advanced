{
 "cells": [
  {
   "cell_type": "markdown",
   "metadata": {
    "id": "EvjZ89YPxfcR"
   },
   "source": [
    "# **Data Sample Check**"
   ]
  },
  {
   "cell_type": "code",
   "execution_count": 1,
   "metadata": {
    "colab": {
     "base_uri": "https://localhost:8080/",
     "height": 196
    },
    "id": "ePQjjHOuxfzW",
    "outputId": "717ffd27-8515-45b0-acd2-484576a4e840"
   },
   "outputs": [
    {
     "name": "stdout",
     "output_type": "stream",
     "text": [
      "(103, 3)\n"
     ]
    },
    {
     "data": {
      "text/plain": [
       "label\n",
       "product        52\n",
       "not_product    51\n",
       "Name: count, dtype: int64"
      ]
     },
     "execution_count": 1,
     "metadata": {},
     "output_type": "execute_result"
    }
   ],
   "source": [
    "data = [\n",
    "    # ✅ Product URLs (52 samples)\n",
    "    (\"https://www.amazon.in/dp/B09G99CW2T\", \"product\"),\n",
    "    (\"https://www.amazon.in/Apple-iPhone-13-128GB-Blue/dp/B09G99CW2T\", \"product\"),\n",
    "    (\"https://www.amazon.in/Noise-Launched-Bluetooth-Calling-Tracking/dp/B0BJ72WZQ7?th=1\", \"product\"),\n",
    "    (\"https://www.amazon.in/dp/B0C3XGJWQ7\", \"product\"),\n",
    "    (\"https://www.amazon.in/dp/B07WFPMKD7\", \"product\"),\n",
    "    (\"https://www.amazon.in/dp/B09SH994JW\", \"product\"),\n",
    "    (\"https://www.amazon.in/dp/B08444S68M\", \"product\"),\n",
    "    (\"https://www.amazon.in/dp/B07DJHXTLJ\", \"product\"),\n",
    "    (\"https://www.amazon.in/dp/B07VJYZF59\", \"product\"),\n",
    "    (\"https://www.amazon.in/dp/B08444S5JD\", \"product\"),\n",
    "    (\"https://www.flipkart.com/apple-iphone-13-blue-128-gb/p/itm6e3b5b5a7cfd9\", \"product\"),\n",
    "    (\"https://www.flipkart.com/noise-crew-1-38-round-display-bluetooth-calling-metallic-finish-ip68-rating-smartwatch/p/itm9eb2931827255\", \"product\"),\n",
    "    (\"https://www.flipkart.com/redmi-note-12-pro-5g-icy-blue-128-gb/p/itm76d1e3ec4dd33\", \"product\"),\n",
    "    (\"https://www.flipkart.com/samsung-galaxy-m14-5g-smoky-teal-128-gb/p/itm1d1b761621bba\", \"product\"),\n",
    "    (\"https://www.flipkart.com/dell-inspiron-core-i5-11th-gen/p/itm2ba7566b9c6d7\", \"product\"),\n",
    "    (\"https://www.flipkart.com/acer-aspire-7-ryzen-5-hexa-core/p/itm4b6ed1a6b71d1\", \"product\"),\n",
    "    (\"https://www.flipkart.com/hp-pavilion-intel-core-i5-12th-gen/p/itm6f3311f2a3c84\", \"product\"),\n",
    "    (\"https://www.flipkart.com/asus-vivobook-15-core-i3-12th-gen/p/itmbb3d3c324a0e6\", \"product\"),\n",
    "    (\"https://www.flipkart.com/boat-airdopes-121v2-bluetooth-headset/p/itmbe0d46a4f7a6e\", \"product\"),\n",
    "    (\"https://www.flipkart.com/sony-wh-1000xm4-bluetooth-headset/p/itm0cfaa7bbdb3d6\", \"product\"),\n",
    "    (\"https://www.flipkart.com/jbl-c100si-wired-headset/p/itm7c94f033b99c3\", \"product\"),\n",
    "    (\"https://www.flipkart.com/realme-buds-wireless-2-neo-bluetooth-headset/p/itm14bb7ff4d12b3\", \"product\"),\n",
    "    (\"https://www.flipkart.com/mi-dual-driver-wired-headset/p/itm1e2190fcbf8db\", \"product\"),\n",
    "    (\"https://www.amazon.in/dp/B08N5WRWNW\", \"product\"),\n",
    "    (\"https://www.amazon.in/dp/B08N5VSQNG\", \"product\"),\n",
    "    (\"https://www.amazon.in/dp/B097R87DF3\", \"product\"),\n",
    "    (\"https://www.amazon.in/dp/B09GFPVD5J\", \"product\"),\n",
    "    (\"https://www.amazon.in/dp/B08P9KJ1N7\", \"product\"),\n",
    "    (\"https://www.amazon.in/dp/B08P9KW3CD\", \"product\"),\n",
    "    (\"https://www.amazon.in/dp/B07WSY6VGT\", \"product\"),\n",
    "    (\"https://www.amazon.in/dp/B07WSYGVGZ\", \"product\"),\n",
    "    (\"https://www.amazon.in/dp/B07Y5Y3M89\", \"product\"),\n",
    "    (\"https://www.amazon.in/dp/B08H7Z21KF\", \"product\"),\n",
    "    (\"https://www.amazon.in/dp/B09WRM9SKD\", \"product\"),\n",
    "    (\"https://www.amazon.in/dp/B0B3R7FZHC\", \"product\"),\n",
    "    (\"https://www.amazon.in/dp/B097R8FYW4\", \"product\"),\n",
    "    (\"https://www.amazon.in/dp/B08N5W4NNB\", \"product\"),\n",
    "    (\"https://www.amazon.in/dp/B07DJHXTLJ\", \"product\"),\n",
    "    (\"https://www.google.com/shopping/product/16848581607082948437\", \"product\"),\n",
    "    (\"https://www.google.com/shopping/product/9432095483203456234\", \"product\"),\n",
    "    (\"https://www.google.com/shopping/product/13987502839485738457\", \"product\"),\n",
    "    (\"https://www.google.com/shopping/product/98435798457384957834\", \"product\"),\n",
    "    (\"https://www.google.com/shopping/product/84579028475902845739\", \"product\"),\n",
    "    (\"https://www.google.com/shopping/product/92845793485739485723\", \"product\"),\n",
    "    (\"https://www.google.com/shopping/product/48975938475029485702\", \"product\"),\n",
    "    (\"https://www.google.com/shopping/product/53984579384579384579\", \"product\"),\n",
    "    (\"https://www.google.com/shopping/product/53984579384579384579\", \"product\"),\n",
    "    (\"https://www.google.com/shopping/product/93485792384792384792\", \"product\"),\n",
    "    (\"https://www.google.com/shopping/product/32847923487923487234\", \"product\"),\n",
    "    (\"https://www.myntra.com/smart-watches/noise/noise-crew-with-bt-calling--metallic-finish-ip68-rating-138-round-display-smartwatch/23529198/buy\", \"product\"),\n",
    "    (\"https://www.myntra.com/smart-watches/noise/noise-crew-with-bt-calling--metallic-finish-ip68-rating-138-round-display-smartwatch/23529198/buy\", \"product\"),\n",
    "    (\"https://www.ahpmedicals.com/tork-mini-jumbo-toilet-roll-dispenser-white-pack-of-1.html\", \"product\"),\n",
    "\n",
    "    # 🚫 Not Product URLs (51 samples)\n",
    "    (\"https://www.amazon.in/s?k=noise+crew+smartwatch+1.38\", \"not_product\"),\n",
    "    (\"https://www.flipkart.com/search?q=noise+watch\", \"not_product\"),\n",
    "    (\"https://www.amazon.in/gp/bestsellers/electronics/976419031\", \"not_product\"),\n",
    "    (\"https://www.flipkart.com/wearable-smart-devices/smart-watches/noise~brand/pr?sid=ajy%2Cbuh\", \"not_product\"),\n",
    "    (\"https://www.flipkart.com/mens-watches/pr?sid=r18,f13\", \"not_product\"),\n",
    "    (\"https://www.amazon.in/gp/goldbox\", \"not_product\"),\n",
    "    (\"https://www.flipkart.com/offers-store\", \"not_product\"),\n",
    "    (\"https://www.amazon.in/b/?node=976419031\", \"not_product\"),\n",
    "    (\"https://www.flipkart.com/electronics-store\", \"not_product\"),\n",
    "    (\"https://www.amazon.in/s?k=smartphones\", \"not_product\"),\n",
    "    (\"https://www.google.com/search?q=iphone+13\", \"not_product\"),\n",
    "    (\"https://www.google.com/search?q=best+laptop+under+60000\", \"not_product\"),\n",
    "    (\"https://www.google.com/shopping\", \"not_product\"),\n",
    "    (\"https://www.google.com/search?q=buy+noise+smartwatch\", \"not_product\"),\n",
    "    (\"https://www.google.com/shopping/search?q=noise+watch\", \"not_product\"),\n",
    "    (\"https://www.flipkart.com/smart-watches/pr?sid=ajy,buh\", \"not_product\"),\n",
    "    (\"https://www.flipkart.com/laptops-store\", \"not_product\"),\n",
    "    (\"https://www.amazon.in/smart-watches/b?ie=UTF8&node=5605728031\", \"not_product\"),\n",
    "    (\"https://www.amazon.in/gp/new-releases\", \"not_product\"),\n",
    "    (\"https://www.amazon.in/Deals/sale\", \"not_product\"),\n",
    "    (\"https://www.amazon.in/s?k=laptop+under+50000\", \"not_product\"),\n",
    "    (\"https://www.flipkart.com/search?q=laptop+under+50000\", \"not_product\"),\n",
    "    (\"https://www.flipkart.com/sell-online\", \"not_product\"),\n",
    "    (\"https://www.flipkart.com/helpcentre\", \"not_product\"),\n",
    "    (\"https://www.flipkart.com/about-us\", \"not_product\"),\n",
    "    (\"https://www.amazon.in/gp/help/customer/display.html\", \"not_product\"),\n",
    "    (\"https://www.amazon.in/gp/cart/view.html\", \"not_product\"),\n",
    "    (\"https://www.amazon.in/gp/browse.html?node=1389401031\", \"not_product\"),\n",
    "    (\"https://www.amazon.in/s?k=headphones\", \"not_product\"),\n",
    "    (\"https://www.flipkart.com/headphones-store\", \"not_product\"),\n",
    "    (\"https://www.flipkart.com/smartphones-store\", \"not_product\"),\n",
    "    (\"https://www.amazon.in/b?node=1389432031\", \"not_product\"),\n",
    "    (\"https://www.amazon.in/s?k=gaming+laptop\", \"not_product\"),\n",
    "    (\"https://www.flipkart.com/search?q=wireless+headphones\", \"not_product\"),\n",
    "    (\"https://www.flipkart.com/offers\", \"not_product\"),\n",
    "    (\"https://www.flipkart.com/dmart\", \"not_product\"),\n",
    "    (\"https://www.amazon.in/dmart-store\", \"not_product\"),\n",
    "    (\"https://www.amazon.in/s?k=fitness+band\", \"not_product\"),\n",
    "    (\"https://www.flipkart.com/search?q=fitness+band\", \"not_product\"),\n",
    "    (\"https://www.google.com/search?q=macbook+air+vs+pro\", \"not_product\"),\n",
    "    (\"https://www.google.com/search?q=flipkart+noise+watch+offer\", \"not_product\"),\n",
    "    (\"https://www.google.com/search?q=top+phones+2025\", \"not_product\"),\n",
    "    (\"https://www.google.com/shopping/search?q=budget+phones+2025\", \"not_product\"),\n",
    "    (\"https://www.google.com/shopping/search?q=fitness+trackers\", \"not_product\"),\n",
    "    (\"https://www.google.com/shopping/search?q=cheap+earbuds\", \"not_product\"),\n",
    "    (\"https://www.google.com/shopping/search?q=best+bluetooth+speakers\", \"not_product\"),\n",
    "    (\"https://www.google.com/shopping/search?q=compare+noise+vs+boat\", \"not_product\"),\n",
    "    (\"https://www.google.com/shopping/search?q=kids+smart+watch\", \"not_product\"),\n",
    "    (\"https://www.google.com/shopping/search?q=best+fitness+smartwatch\", \"not_product\"),\n",
    "    (\"https://www.bunzlchs.com/Hygiene-Paper-and-Wipes/Toilet-Tissue/Toilet-Tissue-Dispensers-and-Holders~c~BCHSAPA\", \"not_product\"),\n",
    "    (\"https://janitorialessentials.com/paper-products/jumbo-toilet-tissue\", \"not_product\"),\n",
    "]\n",
    "\n",
    "import pandas as pd\n",
    "df = pd.DataFrame(data, columns=[\"url\", \"label\"])\n",
    "df['label_bin'] = (df['label'] == 'product').astype(int)\n",
    "print(df.shape)\n",
    "df['label'].value_counts()"
   ]
  },
  {
   "cell_type": "markdown",
   "metadata": {
    "id": "45IVsTjqxgK1"
   },
   "source": [
    "# **Dataset exploration (Including domains, counts, & simple stats)**"
   ]
  },
  {
   "cell_type": "code",
   "execution_count": 2,
   "metadata": {
    "colab": {
     "base_uri": "https://localhost:8080/",
     "height": 0
    },
    "id": "UtkSKe1XxgUj",
    "outputId": "f7c0c738-2b5f-4805-a655-60228d13e9d7"
   },
   "outputs": [
    {
     "name": "stdout",
     "output_type": "stream",
     "text": [
      "Top domains:\n",
      " domain\n",
      "www.amazon.in               42\n",
      "www.flipkart.com            30\n",
      "www.google.com              26\n",
      "www.myntra.com               2\n",
      "www.ahpmedicals.com          1\n",
      "www.bunzlchs.com             1\n",
      "janitorialessentials.com     1\n",
      "Name: count, dtype: int64\n",
      "               url_len  has_query  contains_dp\n",
      "label                                         \n",
      "not_product  48.117647   0.607843     0.000000\n",
      "product      58.230769   0.019231     0.480769\n"
     ]
    }
   ],
   "source": [
    "from urllib.parse import urlparse\n",
    "df['domain'] = df['url'].apply(lambda x: urlparse(x).netloc)\n",
    "print(\"Top domains:\\n\", df['domain'].value_counts().head(20))\n",
    "\n",
    "# Token counts heuristics\n",
    "df['url_len'] = df['url'].apply(len)\n",
    "df['has_query'] = df['url'].apply(lambda u: 1 if urlparse(u).query else 0)\n",
    "df['contains_dp'] = df['url'].apply(lambda u: 1 if '/dp/' in u or '/gp/product/' in u else 0)\n",
    "print(df.groupby('label')[['url_len','has_query','contains_dp']].mean())"
   ]
  },
  {
   "cell_type": "markdown",
   "metadata": {
    "id": "txhZZOZKxgep"
   },
   "source": [
    "# **Visualizing the Distributions & top tokens**"
   ]
  },
  {
   "cell_type": "code",
   "execution_count": 3,
   "metadata": {
    "colab": {
     "base_uri": "https://localhost:8080/",
     "height": 1629
    },
    "id": "xx8GHRWIxgoW",
    "outputId": "698a9904-e040-4406-a8ae-3553e8c51879"
   },
   "outputs": [
    {
     "data": {
      "image/png": "[encoded data removed]",
      "text/plain": [
       "<Figure size 640x480 with 1 Axes>"
      ]
     },
     "metadata": {},
     "output_type": "display_data"
    },
    {
     "data": {
      "image/png": "[encoded data removed]",
      "text/plain": [
       "<Figure size 640x480 with 1 Axes>"
      ]
     },
     "metadata": {},
     "output_type": "display_data"
    },
    {
     "data": {
      "image/png": "[encoded data removed]",
      "text/plain": [
       "<Figure size 640x480 with 1 Axes>"
      ]
     },
     "metadata": {},
     "output_type": "display_data"
    },
    {
     "name": "stdout",
     "output_type": "stream",
     "text": [
      "Top tokens: [('www', 102), ('com', 61), ('amazon', 42), ('in', 42), ('flipkart', 31), ('google', 26), ('dp', 25), ('shopping', 20), ('search', 18), ('q', 18), ('noise', 13), ('p', 13), ('product', 11), ('smart', 7), ('bluetooth', 6), ('smartwatch', 6), ('watches', 6), ('s', 6), ('k', 6), ('gp', 6), ('store', 6), ('headset', 5), ('calling', 4), ('crew', 4), ('display', 4), ('core', 4), ('toilet', 4), ('html', 4), ('watch', 4), ('node', 4)]\n"
     ]
    }
   ],
   "source": [
    "import matplotlib.pyplot as plt\n",
    "# 1) class distribution\n",
    "df['label'].value_counts().plot(kind='bar', title='Class distribution')\n",
    "plt.xlabel('label'); plt.ylabel('count'); plt.show()\n",
    "\n",
    "# 2) url length boxplot by label\n",
    "df.boxplot(column='url_len', by='label')\n",
    "plt.title('URL length by label'); plt.suptitle(''); plt.show()\n",
    "\n",
    "# 3) Top domains bar\n",
    "df['domain'].value_counts().head(20).plot(kind='bar', title='Top domains')\n",
    "plt.show()\n",
    "\n",
    "# 4) top tokens (quick)\n",
    "import re, collections\n",
    "def url_tokenizer(u):\n",
    "    u = u.lower()\n",
    "    u = re.sub(r'^https?://', '', u)\n",
    "    tokens = re.split('[^a-z0-9]+', u)\n",
    "    tokens = [t for t in tokens if t and not t.isdigit()]\n",
    "    return tokens\n",
    "\n",
    "all_tokens = []\n",
    "for u in df['url']:\n",
    "    all_tokens += url_tokenizer(u)\n",
    "cnt = collections.Counter(all_tokens)\n",
    "print(\"Top tokens:\", cnt.most_common(30))"
   ]
  },
  {
   "cell_type": "markdown",
   "metadata": {
    "id": "o49yePcDxgyF"
   },
   "source": [
    "# **Train/test split**"
   ]
  },
  {
   "cell_type": "code",
   "execution_count": 4,
   "metadata": {
    "colab": {
     "base_uri": "https://localhost:8080/",
     "height": 0
    },
    "id": "Z1rIyFi0xg71",
    "outputId": "2403436e-8ec6-41ab-c35d-72e8cff6fdef"
   },
   "outputs": [
    {
     "name": "stdout",
     "output_type": "stream",
     "text": [
      "Train: 82 Test: 21\n"
     ]
    }
   ],
   "source": [
    "from sklearn.model_selection import train_test_split\n",
    "X = df['url'].values\n",
    "y = df['label_bin'].values\n",
    "\n",
    "X_train, X_test, y_train, y_test = train_test_split(\n",
    "    X, y, test_size=0.20, stratify=y, random_state=42\n",
    ")\n",
    "print(\"Train:\", len(X_train), \"Test:\", len(X_test))"
   ]
  },
  {
   "cell_type": "markdown",
   "metadata": {
    "id": "_cRlXjkmxhF8"
   },
   "source": [
    "# **Tokenizer & classes of Meta Features**"
   ]
  },
  {
   "cell_type": "code",
   "execution_count": 5,
   "metadata": {
    "id": "4gFRmaAtxhQP"
   },
   "outputs": [],
   "source": [
    "import re\n",
    "from urllib.parse import urlparse\n",
    "import numpy as np\n",
    "from sklearn.base import BaseEstimator, TransformerMixin\n",
    "from scipy.sparse import csr_matrix\n",
    "\n",
    "def url_tokenizer(u):\n",
    "    u = u.lower()\n",
    "    u = re.sub(r'^https?://', '', u)\n",
    "    tokens = re.split('[^a-z0-9]+', u)\n",
    "    tokens = [t for t in tokens if t and not t.isdigit()]\n",
    "    return tokens\n",
    "\n",
    "class MetaFeatures(BaseEstimator, TransformerMixin):\n",
    "    def fit(self, X, y=None):\n",
    "        return self\n",
    "    def transform(self, X):\n",
    "        X = np.array(X).ravel()\n",
    "        rows = []\n",
    "        for u in X:\n",
    "            parsed = urlparse(u)\n",
    "            path = parsed.path or \"\"\n",
    "            query = parsed.query or \"\"\n",
    "            netloc = parsed.netloc or \"\"\n",
    "            rows.append([\n",
    "                len(u),\n",
    "                path.count('/'),\n",
    "                sum(c.isdigit() for c in u),\n",
    "                1 if query else 0,\n",
    "                1 if '/dp/' in u or '/gp/product/' in u else 0,\n",
    "                1 if re.search(r'/p/|/itm', u) else 0,\n",
    "                1 if 'amazon.' in netloc else 0,\n",
    "                1 if 'flipkart.' in netloc else 0,\n",
    "                1 if 'google.' in netloc else 0,\n",
    "                1 if 'myntra.' in netloc else 0\n",
    "            ])\n",
    "        return csr_matrix(np.array(rows, dtype=float))"
   ]
  },
  {
   "cell_type": "markdown",
   "metadata": {
    "id": "WYiMx7-nxhaO"
   },
   "source": [
    "# **Building the Pipeline (LogisticRegression + TF-IDF + meta)**"
   ]
  },
  {
   "cell_type": "code",
   "execution_count": 6,
   "metadata": {
    "colab": {
     "base_uri": "https://localhost:8080/",
     "height": 0
    },
    "id": "dFpUirrExhlU",
    "outputId": "eceb0524-3640-4367-a0c8-7d5368bbfdd6"
   },
   "outputs": [
    {
     "name": "stdout",
     "output_type": "stream",
     "text": [
      "Pipeline trained\n"
     ]
    }
   ],
   "source": [
    "from sklearn.pipeline import Pipeline, FeatureUnion\n",
    "from sklearn.feature_extraction.text import TfidfVectorizer\n",
    "from sklearn.preprocessing import MaxAbsScaler\n",
    "from sklearn.linear_model import LogisticRegression\n",
    "\n",
    "tfidf_pipe = Pipeline([\n",
    "    ('vect', TfidfVectorizer(\n",
    "        tokenizer=url_tokenizer,\n",
    "        token_pattern=None,   # add this to avoid the warning\n",
    "        ngram_range=(1,2),\n",
    "        max_features=1500\n",
    "    ))\n",
    "])\n",
    "\n",
    "meta_pipe = Pipeline([\n",
    "    ('meta_feats', MetaFeatures()),\n",
    "    ('scaler', MaxAbsScaler())\n",
    "])\n",
    "\n",
    "union = FeatureUnion([\n",
    "    ('tfidf', tfidf_pipe),\n",
    "    ('meta', meta_pipe)\n",
    "])\n",
    "\n",
    "pipeline = Pipeline([\n",
    "    ('features', union),\n",
    "    ('clf', LogisticRegression(max_iter=2000, class_weight='balanced', random_state=42))\n",
    "])\n",
    "\n",
    "pipeline.fit(X_train, y_train)\n",
    "print(\"Pipeline trained\")"
   ]
  },
  {
   "cell_type": "markdown",
   "metadata": {
    "id": "db7mljQ5xhwI"
   },
   "source": [
    "# **Evaluation based on test set (explored detailed metrics and confusion matrix)**"
   ]
  },
  {
   "cell_type": "code",
   "execution_count": 8,
   "metadata": {
    "colab": {
     "base_uri": "https://localhost:8080/",
     "height": 0
    },
    "id": "-ExWliHSxh6r",
    "outputId": "482ffe8f-fe69-4842-91b2-a0f3c6e69c6d"
   },
   "outputs": [
    {
     "name": "stdout",
     "output_type": "stream",
     "text": [
      "Accuracy: 1.0\n",
      "\n",
      "Classification report:\n",
      "               precision    recall  f1-score   support\n",
      "\n",
      " not_product       1.00      1.00      1.00        10\n",
      "     product       1.00      1.00      1.00        11\n",
      "\n",
      "    accuracy                           1.00        21\n",
      "   macro avg       1.00      1.00      1.00        21\n",
      "weighted avg       1.00      1.00      1.00        21\n",
      "\n",
      "Confusion matrix:\n",
      " [[10  0]\n",
      " [ 0 11]]\n",
      "Saved evaluation report to /eval_report.txt\n"
     ]
    }
   ],
   "source": [
    "from sklearn.metrics import classification_report, confusion_matrix, accuracy_score\n",
    "import numpy as np\n",
    "\n",
    "y_pred = pipeline.predict(X_test)\n",
    "y_proba = pipeline.predict_proba(X_test)[:,1]\n",
    "\n",
    "print(\"Accuracy:\", accuracy_score(y_test, y_pred))\n",
    "print(\"\\nClassification report:\\n\", classification_report(y_test, y_pred, target_names=['not_product','product']))\n",
    "cm = confusion_matrix(y_test, y_pred)\n",
    "print(\"Confusion matrix:\\n\", cm)\n",
    "\n",
    "# Save the classification report to file\n",
    "report_text = classification_report(y_test, y_pred, target_names=['not_product','product'])\n",
    "with open('eval_report.txt', 'w') as f:\n",
    "    f.write(\"Accuracy: \" + str(accuracy_score(y_test, y_pred)) + \"\\n\\n\")\n",
    "    f.write(report_text)\n",
    "print(\"Saved evaluation report to /eval_report.txt\")"
   ]
  },
  {
   "cell_type": "markdown",
   "metadata": {
    "id": "EV4UirOCxiEG"
   },
   "source": [
    "# **Cross-validation (Stratified K-Fold)**"
   ]
  },
  {
   "cell_type": "code",
   "execution_count": 9,
   "metadata": {
    "colab": {
     "base_uri": "https://localhost:8080/",
     "height": 0
    },
    "id": "o9_tupj8xiOz",
    "outputId": "f97703c1-509c-4a2d-dab5-2e13c2789e47"
   },
   "outputs": [
    {
     "name": "stdout",
     "output_type": "stream",
     "text": [
      "accuracy: mean=0.980, std=0.024\n",
      "precision: mean=0.983, std=0.033\n",
      "recall: mean=0.980, std=0.040\n",
      "f1: mean=0.981, std=0.024\n"
     ]
    }
   ],
   "source": [
    "from sklearn.model_selection import cross_validate, StratifiedKFold\n",
    "scoring = ['accuracy', 'precision', 'recall', 'f1']\n",
    "cv = StratifiedKFold(n_splits=5, shuffle=True, random_state=42)\n",
    "\n",
    "scores = cross_validate(pipeline, X, y, cv=cv, scoring=scoring, n_jobs=-1)\n",
    "for k in scoring:\n",
    "    vals = scores['test_' + k]\n",
    "    print(f\"{k}: mean={vals.mean():.3f}, std={vals.std():.3f}\")"
   ]
  },
  {
   "cell_type": "markdown",
   "metadata": {
    "id": "QBZLC1lRxiZv"
   },
   "source": [
    "# **Importance of Feature / inspection of coefficients**"
   ]
  },
  {
   "cell_type": "code",
   "execution_count": 10,
   "metadata": {
    "colab": {
     "base_uri": "https://localhost:8080/",
     "height": 0
    },
    "id": "kSmGIboJximI",
    "outputId": "b7dd6179-6d00-4296-c4b4-cc3352db7b55"
   },
   "outputs": [
    {
     "name": "stdout",
     "output_type": "stream",
     "text": [
      "Top product-indicative features:\n",
      "contains_dp 2.2221\n",
      "num_digits 1.9570\n",
      "contains_p_itm 1.4303\n",
      "path_depth 0.7453\n",
      "url_len 0.6005\n",
      "dp 0.5896\n",
      "in dp 0.5625\n",
      "product 0.4826\n",
      "shopping product 0.4826\n",
      "domain_myntra 0.2729\n",
      "\n",
      "Top not_product-indicative features:\n",
      "has_query -1.6105\n",
      "gp -0.4030\n",
      "in gp -0.4030\n",
      "store -0.3512\n",
      "domain_flipkart -0.3308\n",
      "electronics -0.2387\n",
      "flipkart -0.2257\n",
      "flipkart com -0.2200\n",
      "www flipkart -0.2200\n",
      "q -0.2054\n"
     ]
    }
   ],
   "source": [
    "# Get TF-IDF feature names and meta names\n",
    "union = pipeline.named_steps['features']          # FeatureUnion\n",
    "tfidf_pipe = union.transformer_list[0][1]         # ('tfidf', Pipeline(...))\n",
    "tfidf_vect = tfidf_pipe.named_steps['vect']\n",
    "tfidf_names = list(tfidf_vect.get_feature_names_out())\n",
    "\n",
    "meta_names = ['url_len','path_depth','num_digits','has_query','contains_dp',\n",
    "              'contains_p_itm','domain_amazon','domain_flipkart','domain_google','domain_myntra']\n",
    "all_feature_names = tfidf_names + meta_names\n",
    "\n",
    "# Get coef (for binary logistic regression)\n",
    "clf = pipeline.named_steps['clf']\n",
    "coef = clf.coef_[0]   # shape = (n_features,)\n",
    "# get top positive (product-indicative) and top negative tokens\n",
    "idx_sorted = coef.argsort()\n",
    "top_negative = [(all_feature_names[i], coef[i]) for i in idx_sorted[:10]]\n",
    "top_positive = [(all_feature_names[i], coef[i]) for i in idx_sorted[-10:]][::-1]\n",
    "\n",
    "print(\"Top product-indicative features:\")\n",
    "for name, c in top_positive:\n",
    "    print(name, f\"{c:.4f}\")\n",
    "\n",
    "print(\"\\nTop not_product-indicative features:\")\n",
    "for name, c in top_negative:\n",
    "    print(name, f\"{c:.4f}\")"
   ]
  },
  {
   "cell_type": "markdown",
   "metadata": {
    "id": "ghXjmVRixix-"
   },
   "source": [
    "# **Save model & test predictions**"
   ]
  },
  {
   "cell_type": "code",
   "execution_count": 15,
   "metadata": {
    "colab": {
     "base_uri": "https://localhost:8080/",
     "height": 0
    },
    "id": "0fjh-stdxi96",
    "outputId": "c2553e13-7167-4720-a909-ebb497ff6f93"
   },
   "outputs": [
    {
     "name": "stdout",
     "output_type": "stream",
     "text": [
      "Saved pipeline to: url_product_pipeline.joblib\n",
      "Saved test_set_predictions.csv to current directory\n"
     ]
    }
   ],
   "source": [
    "import joblib\n",
    "model_path = 'url_product_pipeline.joblib'  # local path\n",
    "joblib.dump(pipeline, model_path)\n",
    "print(\"Saved pipeline to:\", model_path)\n",
    "\n",
    "# Save test predictions CSV for inspection\n",
    "import pandas as pd\n",
    "out_df = pd.DataFrame({'url': X_test, 'true': y_test, 'pred': y_pred, 'prob_product': y_proba})\n",
    "out_df['true_label'] = out_df['true'].map({1:'product', 0:'not_product'})\n",
    "out_df['pred_label'] = out_df['pred'].map({1:'product', 0:'not_product'})\n",
    "out_df.to_csv('test_set_predictions.csv', index=False)\n",
    "print(\"Saved test_set_predictions.csv to current directory\")"
   ]
  },
  {
   "cell_type": "markdown",
   "metadata": {
    "id": "NXzvACKM02Vy"
   },
   "source": [
    "# **Batch classification of new URLs (Inference)**"
   ]
  },
  {
   "cell_type": "code",
   "execution_count": 18,
   "metadata": {
    "colab": {
     "base_uri": "https://localhost:8080/",
     "height": 0
    },
    "id": "dsBdACxo025Z",
    "outputId": "336b56ac-59b9-4ea1-db44-109e8e5631a9"
   },
   "outputs": [
    {
     "name": "stdout",
     "output_type": "stream",
     "text": [
      "[{'url': 'https://www.amazon.in/dp/B07DJHXTLJ', 'pred': 'product', 'prob': 0.8753565045660076}, {'url': 'https://www.amazon.in/s?k=headphones', 'pred': 'not_product', 'prob': 0.05701544453180601}]\n",
      "Saved sample_predictions.csv in current directory\n"
     ]
    }
   ],
   "source": [
    "# Load model (if new session)\n",
    "# import joblib\n",
    "# pipeline = joblib.load('/url_product_pipeline.joblib')\n",
    "\n",
    "def predict_urls(urls, model=pipeline, threshold=0.5):\n",
    "    probs = model.predict_proba(urls)[:,1]\n",
    "    preds = (probs >= threshold).astype(int)\n",
    "    return [{'url':u, 'pred':('product' if p==1 else 'not_product'), 'prob':float(pr)} for u,p,pr in zip(urls, preds, probs)]\n",
    "\n",
    "# Example\n",
    "samples = [\"https://www.amazon.in/dp/B07DJHXTLJ\", \"https://www.amazon.in/s?k=headphones\"]\n",
    "print(predict_urls(samples))\n",
    "# Save predictions to CSV\n",
    "preds_list = predict_urls(samples)\n",
    "pd.DataFrame(preds_list).to_csv('sample_predictions.csv', index=False)\n",
    "print(\"Saved sample_predictions.csv in current directory\")"
   ]
  },
  {
   "cell_type": "code",
   "execution_count": null,
   "metadata": {},
   "outputs": [],
   "source": []
  }
 ],
 "metadata": {
  "colab": {
   "provenance": []
  },
  "kernelspec": {
   "display_name": "Python 3 (ipykernel)",
   "language": "python",
   "name": "python3"
  },
  "language_info": {
   "codemirror_mode": {
    "name": "ipython",
    "version": 3
   },
   "file_extension": ".py",
   "mimetype": "text/x-python",
   "name": "python",
   "nbconvert_exporter": "python",
   "pygments_lexer": "ipython3",
   "version": "3.12.3"
  }
 },
 "nbformat": 4,
 "nbformat_minor": 1
}
